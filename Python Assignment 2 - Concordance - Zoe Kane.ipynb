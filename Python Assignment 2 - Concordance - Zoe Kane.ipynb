{
 "cells": [
  {
   "cell_type": "markdown",
   "metadata": {},
   "source": [
    "# Assignment 2 - Condordance"
   ]
  },
  {
   "cell_type": "markdown",
   "metadata": {},
   "source": [
    "For this assignment, we have to build a program that will output about 10 characters on either side of a searched word. "
   ]
  },
  {
   "cell_type": "code",
   "execution_count": 2,
   "metadata": {
    "collapsed": false
   },
   "outputs": [],
   "source": [
    "#import urllib.request\n",
    "#poeUrl = \"http://www.gutenberg.org/files/2147/2147-0.txt\"\n",
    "#poeString = urllib.request.urlopen(poeUrl).read().decode().strip()\n",
    "#print(\"This string has\", len(poeString), \"characters.\")"
   ]
  },
  {
   "cell_type": "markdown",
   "metadata": {},
   "source": [
    "This was my starting point, from what we did in class. We used a book frm Project Gutenberg, and from here we will develop a further more progressive code (hopefully). Taking the pieces we did in class, I combined the overall pieces into one function. It took some fiddling and correcting it into proper form and referencing how functions read down/loop. The function at the very end of the document here is the one that properly works to the specifications in class, but below is all my exploration with the program. "
   ]
  },
  {
   "cell_type": "code",
   "execution_count": null,
   "metadata": {
    "collapsed": true
   },
   "outputs": [],
   "source": [
    "import urllib.request #missed an l here, wouldn't fucntion without it :P\n",
    "def projectsearch(url, context, word): #definiting a function - decided to rename the KWIC as my own function to help my brain, this will define what we are searching for. I made it optional to input any url, did not include file\n",
    "    searchString = urllib.request.urlopen(url).read().decode().strip().lower() #used this from class, instead of poeString made it more generic so as to open my mind to the option of other searchable texts\n",
    "    print(\"This string has\", len(searchString), \"characters.\") #same from clas, this will say how many characters the strong will have\n",
    "\n",
    "    location = 0 #the starting location of the string, starting at 0 is the very start of the string\n",
    "    while location < len(searchString): #googled information about other loops that could potentially work other than for, while, if else if, ect. Consulted about while loops, as that seemed the most versitile loop to use in the context.\n",
    "        location = searchString.find(word, location) #finding the word, searching the location\n",
    "        if location == -1: #this is a preventative measure for infinite loops, in case I create one\n",
    "            break\n",
    "        print(location, \":\", searchString[location - 10 : location + 10 + len(word)], \"\\n==============\") #ran into issues getting full context on account of different character lengths of search words. added search word length to the function\n",
    "        location += len(word) #whatever it was equal to before, plus the next instance of the loop, must be +=, so the loop does not get stuck on the previously discovered word. word+length is important we want the program to search past the word already found, like what happened with the example in class. \n",
    "\n",
    "url = input(\"Enter url: \") #intitally forgot \"\" around enter url the first time attempting this\n",
    "context = 10 #this will determine what appears on either side\n",
    "word = input(\"Enter word to search: \")\n",
    "projectsearch(url, context, word) #this is the function I defined at the beginning, the KWIC, this will run the entire function allowing the user to input what text they would like to search"
   ]
  },
  {
   "cell_type": "markdown",
   "metadata": {},
   "source": [
    "Issues I ran into while completing this project:\n",
    "Language is still a struggle for me, especially wrapping my head around how I can define literally anything - it's almost too open. A friend helped me with terminology in regards to loops and how they functioned as well as the overall flow of the programming language - indents, how to make sure the proper functions are contained. Stackoverflow helped after I had the proper language tools to work with. I started asking the right questions and built something that will hopefully continue to work properly!\n",
    "\n",
    "However the above funciton is only allowing me to return characters, and I haven't been able to tokenize it properly. I will continue to try and tokenize the text in a list that will allow me to return a tokenized list. I've been using the split function and attempting to fit it in various places, as well as searching up potential solutions using keywords like 'split' 'tokenize' 'loops' ect."
   ]
  },
  {
   "cell_type": "markdown",
   "metadata": {},
   "source": [
    "Several hekpful stackoverflow links:\n",
    "http://stackoverflow.com/questions/509211/explain-pythons-slice-notation\n",
    "\n",
    "http://stackoverflow.com/questions/4706989/how-to-get-the-number-of-elements-in-a-python-list\n",
    "\n",
    "http://stackoverflow.com/questions/26696582/stop-an-infinite-loop-in-python-while-statement\n",
    "\n",
    "http://stackoverflow.com/questions/14747210/how-to-stop-infinite-loop\n"
   ]
  },
  {
   "cell_type": "code",
   "execution_count": 10,
   "metadata": {
    "collapsed": false
   },
   "outputs": [
    {
     "name": "stdout",
     "output_type": "stream",
     "text": [
      "Enter url: http://www.gutenberg.org/cache/epub/2151/pg2151.txt\n",
      "Enter word to search: city\n",
      "This string has 474709 characters.\n",
      "0 : [] \n",
      "============\n",
      "1 : [] \n",
      "============\n",
      "2 : [] \n",
      "============\n",
      "3 : [] \n",
      "============\n",
      "4 : [] \n",
      "============\n",
      "5 : [] \n",
      "============\n",
      "6 : [] \n",
      "============\n",
      "7 : [] \n",
      "============\n",
      "8 : [] \n",
      "============\n",
      "9 : [] \n",
      "============\n",
      "10 : ['\\ufeffproject', \"gutenberg's\", 'the', 'works', 'of', 'edgar', 'allan', 'poe,', 'by', 'edgar', 'allan', 'poe', 'this', 'ebook', 'is', 'for', 'the', 'use', 'of', 'anyone'] \n",
      "============\n",
      "11 : [\"gutenberg's\", 'the', 'works', 'of', 'edgar', 'allan', 'poe,', 'by', 'edgar', 'allan', 'poe', 'this', 'ebook', 'is', 'for', 'the', 'use', 'of', 'anyone', 'anywhere'] \n",
      "============\n",
      "12 : ['the', 'works', 'of', 'edgar', 'allan', 'poe,', 'by', 'edgar', 'allan', 'poe', 'this', 'ebook', 'is', 'for', 'the', 'use', 'of', 'anyone', 'anywhere', 'at'] \n",
      "============\n",
      "13 : ['works', 'of', 'edgar', 'allan', 'poe,', 'by', 'edgar', 'allan', 'poe', 'this', 'ebook', 'is', 'for', 'the', 'use', 'of', 'anyone', 'anywhere', 'at', 'no'] \n",
      "============\n"
     ]
    }
   ],
   "source": [
    "import urllib.request \n",
    "def projectsearch(url, context, word): \n",
    "    searchString = urllib.request.urlopen(url).read().decode().strip().lower()\n",
    "    print(\"This string has\", len(searchString), \"characters.\")\n",
    "    \n",
    "    searchTokens = searchString.split()\n",
    "    location = 0 \n",
    "    for item in searchTokens: #tried changing the while loop to a for loop to get it to recognize the tokens vs characters\n",
    "        if item == word: #so it will print the characters on either side... it unfortunately doesn't function at all most times, and starts printing out with every token\n",
    "            print(location, \":\", searchTokens[location - 10 : location + 10], \"\\n============\") \n",
    "            location += 1\n",
    "url = input(\"Enter url: \") \n",
    "context = 10 \n",
    "word = input(\"Enter word to search: \")\n",
    "projectsearch(url, context, word) "
   ]
  },
  {
   "cell_type": "code",
   "execution_count": 12,
   "metadata": {
    "collapsed": false
   },
   "outputs": [
    {
     "name": "stdout",
     "output_type": "stream",
     "text": [
      "Enter url: http://www.gutenberg.org/cache/epub/2151/pg2151.txt\n",
      "Enter word to search: helen\n",
      "This string has 474709 characters.\n",
      "176 : ['poems', 'of', 'later', 'life', 'the', 'raven', 'the', 'bells', 'ulalume', 'to', 'helen', 'annabel', 'lee', 'a', 'valentine', 'an', 'enigma', 'to', 'my', 'mother'] \n",
      "============\n",
      "176 : ['poems', 'of', 'later', 'life', 'the', 'raven', 'the', 'bells', 'ulalume', 'to', 'helen', 'annabel', 'lee', 'a', 'valentine', 'an', 'enigma', 'to', 'my', 'mother'] \n",
      "============\n",
      "176 : ['poems', 'of', 'later', 'life', 'the', 'raven', 'the', 'bells', 'ulalume', 'to', 'helen', 'annabel', 'lee', 'a', 'valentine', 'an', 'enigma', 'to', 'my', 'mother'] \n",
      "============\n",
      "176 : ['poems', 'of', 'later', 'life', 'the', 'raven', 'the', 'bells', 'ulalume', 'to', 'helen', 'annabel', 'lee', 'a', 'valentine', 'an', 'enigma', 'to', 'my', 'mother'] \n",
      "============\n",
      "176 : ['poems', 'of', 'later', 'life', 'the', 'raven', 'the', 'bells', 'ulalume', 'to', 'helen', 'annabel', 'lee', 'a', 'valentine', 'an', 'enigma', 'to', 'my', 'mother'] \n",
      "============\n"
     ]
    }
   ],
   "source": [
    "import urllib.request \n",
    "def projectsearch(url, context, word): \n",
    "    searchString = urllib.request.urlopen(url).read().decode().strip().lower()\n",
    "    print(\"This string has\", len(searchString), \"characters.\")\n",
    "    \n",
    "    location = 0 \n",
    "    searchTokens = searchString.split()\n",
    "    for i in list(searchTokens):\n",
    "        if i == word:\n",
    "            location = searchTokens.index(word) \n",
    "            print(location, \":\", searchTokens[location - 10 : location + 10], \"\\n============\") \n",
    "            \n",
    "url = input(\"Enter url: \") \n",
    "context = 10 \n",
    "word = input(\"Enter word to search: \")\n",
    "projectsearch(url, context, word) "
   ]
  },
  {
   "cell_type": "code",
   "execution_count": 13,
   "metadata": {
    "collapsed": false
   },
   "outputs": [
    {
     "name": "stdout",
     "output_type": "stream",
     "text": [
      "Enter url: http://www.gutenberg.org/cache/epub/2151/pg2151.txt\n",
      "Enter word to search: helen\n",
      "This string has 474709 characters.\n"
     ]
    }
   ],
   "source": [
    "import urllib.request \n",
    "def projectsearch(url, context, word): \n",
    "    searchString = urllib.request.urlopen(url).read().decode().strip().lower()\n",
    "    print(\"This string has\", len(searchString), \"characters.\")\n",
    "    \n",
    "    location = 0 \n",
    "    searchTokens = searchString.split()\n",
    "    for i in list(enumerate(searchTokens)): #if I used just list(searchTokens) it will return one result - see below\n",
    "        if i == word:\n",
    "            location = searchTokens.index(word) \n",
    "            print(location, \":\", searchTokens[location - 10 : location + 10], \"\\n============\") \n",
    "            \n",
    "url = input(\"Enter url: \") \n",
    "context = 10 \n",
    "word = input(\"Enter word to search: \")\n",
    "projectsearch(url, context, word) "
   ]
  },
  {
   "cell_type": "markdown",
   "metadata": {
    "collapsed": true
   },
   "source": [
    "This particular itteration of the function will not return anything at all but the amount of characters the string has. I used https://docs.python.org/3/library/functions.html as a reference to potential functions to try and tailor it so that it would give me the tokens, not just the characters. In addition to this, using stackoverflow and google. If I just use list(searchTokens) it lists the first instance of the word, not further. I have been using http://www.gutenberg.org/cache/epub/2151/pg2151.txt as a text file and searching \"helen\". It does list the ten words before and ten words after, but the issue is is that it only stays on that one file (there are 8 instances of the name Helen)."
   ]
  },
  {
   "cell_type": "code",
   "execution_count": 15,
   "metadata": {
    "collapsed": false
   },
   "outputs": [
    {
     "name": "stdout",
     "output_type": "stream",
     "text": [
      "Enter url: http://www.gutenberg.org/cache/epub/2151/pg2151.txt\n",
      "Enter word to search: city\n",
      "This string has 474709 characters.\n",
      "209 : ['a', 'dream', 'to', 'marie', 'louise', '(shew)', 'to', 'the', 'same', 'the', 'city', 'in', 'the', 'sea', 'the', 'sleeper', 'bridal', 'ballad', 'notes', 'poems'] \n",
      "============\n",
      "2736 : ['ramparts', 'adjoining', 'the', 'gate', 'of', 'benjamin,', 'which', 'is', 'in', 'the', 'city', 'of', 'david,', 'and', 'overlooking', 'the', 'camp', 'of', 'the', 'uncircumcised;'] \n",
      "============\n",
      "2793 : ['the', 'gizbarim,', 'or', 'sub-collectors', 'of', 'the', 'offering,', 'in', 'the', 'holy', 'city', 'of', 'jerusalem.', '\"verily,\"', 'replied', 'the', 'pharisee;', '\"let', 'us', 'hasten:'] \n",
      "============\n",
      "2903 : ['\"that', 'the', 'roman', 'pompey,', 'who', 'is', 'now', 'impiously', 'besieging', 'the', 'city', 'of', 'the', 'most', 'high,', 'has', 'no', 'assurity', 'that', 'we'] \n",
      "============\n",
      "3103 : ['smoke', 'no', 'tempest', 'can', 'turn', 'aside.\"', 'that', 'part', 'of', 'the', 'city', 'to', 'which', 'our', 'worthy', 'gizbarim', 'now', 'hastened,', 'and', 'which'] \n",
      "============\n",
      "17039 : ['on', 'horseback,', 'with', 'the', 'avowed', 'intention', 'of', 'proceeding', 'to', 'the', 'city', 'of-,', 'about', 'fifteen', 'miles', 'distant,', 'and', 'of', 'returning', 'the'] \n",
      "============\n",
      "21345 : ['and', 'rich', 'flavour,', 'that', 'he', 'had', 'ordered', 'up', 'from', 'the', 'city', 'a', 'couple', 'of', 'months', 'ago,', 'and', 'of', 'which', 'he'] \n",
      "============\n",
      "22720 : ['and', 'the', 'laider', 'of', 'the', 'hot', 'tun', 'in', 'the', 'houl', 'city', \"o'\", 'lonon--why', \"it's\", 'jist', 'mesilf.', 'and', 'fait', 'that', 'same'] \n",
      "============\n",
      "31082 : ['i', 'have', 'gained', 'the', 'assent', 'of', 'the', 'directors', 'of', 'the', 'city', 'museum,', 'to', 'my', 'examination', 'of', 'the', 'mummy--you', 'know', 'the'] \n",
      "============\n",
      "35923 : ['dimensions', 'of', 'any', 'one', 'of', 'the', 'principal', 'buildings', 'of', 'the', 'city', 'of', 'aznac,', 'whose', 'foundations', 'were', 'laid', 'in', 'the', 'night'] \n",
      "============\n",
      "42340 : ['under', 'the', 'sun!', 'oh!', 'it', 'was', 'pitiful!', 'near', 'a', 'whole', 'city', 'full,', 'home', 'she', 'had', 'none.', 'sisterly,', 'brotherly,', 'fatherly,', 'motherly,'] \n",
      "============\n",
      "50505 : ['far', 'away', 'to', 'where', 'the', 'prospect', 'terminates-_thee', 'only!_', '1848.', 'the', 'city', 'in', 'the', 'sea.', 'lo!', 'death', 'has', 'reared', 'himself', 'a'] \n",
      "============\n",
      "50519 : ['lo!', 'death', 'has', 'reared', 'himself', 'a', 'throne', 'in', 'a', 'strange', 'city', 'lying', 'alone', 'far', 'down', 'within', 'the', 'dim', 'west,', 'wherethe'] \n",
      "============\n",
      "56430 : ['friends--yet', 'shall', 'not', 'be', 'so', 'long--', 'for', 'in', 'the', 'eternal', 'city', 'thou', 'shalt', 'do', 'me', 'a', 'kind', 'and', 'gentle', 'office,'] \n",
      "============\n"
     ]
    }
   ],
   "source": [
    "import urllib.request\n",
    "def projectsearch(url, context, word):\n",
    "    searchString = urllib.request.urlopen(url).read().decode().strip().lower()\n",
    "    print(\"This string has\", len(searchString), \"characters.\")\n",
    "   \n",
    "    location = 0\n",
    "    searchTokens = searchString.split()\n",
    "    for i, searchWord in enumerate(searchTokens):\n",
    "        if searchWord == word:\n",
    "            print(i, \":\", searchTokens[i - context : i + context], \"\\n============\")\n",
    "           \n",
    "url = input(\"Enter url: \")\n",
    "context = 10\n",
    "word = input(\"Enter word to search: \")\n",
    "projectsearch(url, context, word)"
   ]
  },
  {
   "cell_type": "markdown",
   "metadata": {},
   "source": [
    "After playing around and googling things, what made it keep looping to the first instance of the word was the .index. I needed create a new variable that would not get hung up and trapped. Using the previous enummerate function, I pushed it along using a for loop. I needed the word to be recognized in the loop as well, as without it the context is not clearly understood. Now when I search \"Helen\" in the previous text, it will show me five instances of it with 10 tokens around it. Helpful stackoverflow links that helped me get this working properly. I realize my error before, I hadn't clearly defined the index/what i was in the scheme of things. \n",
    "\n",
    "http://stackoverflow.com/questions/22171558/what-does-enumerate-mean\n",
    "\n",
    "http://stackoverflow.com/questions/28662715/python-enumeration\n",
    "\n",
    "https://docs.python.org/3/library/functions.html#enumerate\n",
    "\n",
    "http://stackoverflow.com/questions/29619801/understanding-pythons-enumerate\n",
    "\n",
    "http://stackoverflow.com/questions/38469326/selecting-a-string-from-python-enumeration\n",
    "\n",
    "http://stackoverflow.com/questions/3396279/enumerate-ing-a-generator-in-python"
   ]
  },
  {
   "cell_type": "code",
   "execution_count": null,
   "metadata": {
    "collapsed": true
   },
   "outputs": [],
   "source": []
  }
 ],
 "metadata": {
  "kernelspec": {
   "display_name": "Python [Root]",
   "language": "python",
   "name": "Python [Root]"
  },
  "language_info": {
   "codemirror_mode": {
    "name": "ipython",
    "version": 3
   },
   "file_extension": ".py",
   "mimetype": "text/x-python",
   "name": "python",
   "nbconvert_exporter": "python",
   "pygments_lexer": "ipython3",
   "version": "3.5.2"
  }
 },
 "nbformat": 4,
 "nbformat_minor": 0
}
